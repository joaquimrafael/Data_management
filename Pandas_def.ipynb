{
  "nbformat": 4,
  "nbformat_minor": 0,
  "metadata": {
    "celltoolbar": "Edit Metadata",
    "colab": {
      "provenance": [],
      "include_colab_link": true
    },
    "kernelspec": {
      "display_name": "Python 3",
      "language": "python",
      "name": "python3"
    },
    "language_info": {
      "codemirror_mode": {
        "name": "ipython",
        "version": 3
      },
      "file_extension": ".py",
      "mimetype": "text/x-python",
      "name": "python",
      "nbconvert_exporter": "python",
      "pygments_lexer": "ipython3",
      "version": "3.6.13"
    }
  },
  "cells": [
    {
      "cell_type": "markdown",
      "metadata": {
        "id": "view-in-github",
        "colab_type": "text"
      },
      "source": [
        "<a href=\"https://colab.research.google.com/github/joaquimrafael/Data_management/blob/main/Pandas_def.ipynb\" target=\"_parent\"><img src=\"https://colab.research.google.com/assets/colab-badge.svg\" alt=\"Open In Colab\"/></a>"
      ]
    },
    {
      "cell_type": "markdown",
      "metadata": {
        "id": "J3LMBfpeHTwb"
      },
      "source": [
        "<head>\n",
        "  <meta name=\"author\" content=\"Rogério de Oliveira\">\n",
        "  <meta institution=\"author\" content=\"Universidade Presbiteriana Mackenzie\">\n",
        "</head>\n",
        "\n",
        "<img src=\"http://meusite.mackenzie.br/rogerio/mackenzie_logo/UPM.2_horizontal_vermelho.jpg\" width=300, align=\"right\">\n",
        "<!-- <h1 align=left><font size = 6, style=\"color:rgb(200,0,0)\"> optional title </font></h1> -->\n",
        "\n"
      ]
    },
    {
      "cell_type": "markdown",
      "source": [
        "# Lab Avaliativo\n",
        "\n",
        "Conceitos verificados neste Lab:\n",
        "\n",
        "1. `Pandas`, Aquisição e Inspeção de Dados\n",
        "2. `Pandas`, Seleção de Dados\n",
        "3. Distribuições e Análise de Dados\n",
        "\n",
        "**Desenvolva somente as questões do seu questionário no Moodle. Após responder o questionário faça um print do seu Colab em .pdf poste seu .pdf e compartilhe o link do seu Colab para leitura.**\n",
        "\n",
        "<br>\n",
        "\n",
        "---\n",
        "\n"
      ],
      "metadata": {
        "id": "dEyV_GqcqtL1"
      }
    },
    {
      "cell_type": "markdown",
      "source": [
        "# Basic imports"
      ],
      "metadata": {
        "id": "6AsPs0GIlyle"
      }
    },
    {
      "cell_type": "code",
      "metadata": {
        "id": "jf4DkEBpGdr4"
      },
      "source": [
        "import numpy as np\n",
        "import pandas as pd\n",
        "import matplotlib.pyplot as plt\n",
        "%matplotlib inline\n",
        "import seaborn as sns\n"
      ],
      "execution_count": null,
      "outputs": []
    },
    {
      "cell_type": "markdown",
      "metadata": {
        "id": "dokziaB0XLtj"
      },
      "source": [
        "\n",
        "\n",
        "## **CASE European Energy**\n",
        "\n",
        "Qual o tipo de Energia mais produzido na Europa? O uso de fontes renováveis já é significativo?\n",
        "\n",
        "<br>\n",
        "<br>\n",
        "\n",
        "<img src=\"https://camo.githubusercontent.com/a1a0f0c83b5fce8c06f95188889bf5bc4e63939541930179f8c0c5b406fb9ae1/68747470733a2f2f696d616765732e756e73706c6173682e636f6d2f70686f746f2d313533323630313232343437362d3135633739663266376135313f69786c69623d72622d312e322e3126697869643d65794a6863484266615751694f6a45794d446439266175746f3d666f726d6174266669743d63726f7026773d3133353026713d3830\" width=300, align=\"left\">\n",
        "\n",
        "<br>\n",
        "<br>\n",
        "<br>\n",
        "<br>\n",
        "<br>\n",
        "<br>\n",
        "<br>\n",
        "<br>\n",
        "<br>\n",
        "\n",
        "[European Energy](https://github.com/rfordatascience/tidytuesday/blob/master/data/2020/2020-08-04/readme.md). Explore aqui como é a produção de Energia na Europa empregando a base de dados [`energy_types`](https://github.com/Rogerio-mack/Analise_de_dados_labs/raw/main/data/energy_types.csv)."
      ]
    },
    {
      "cell_type": "code",
      "source": [
        "df = pd.read_csv('https://raw.githubusercontent.com/Rogerio-mack/Analise_de_dados_labs/main/data/energy_types.csv')\n",
        "df.head"
      ],
      "metadata": {
        "colab": {
          "base_uri": "https://localhost:8080/"
        },
        "id": "1t3DxyzozWCz",
        "outputId": "14726ad0-569e-4ddb-9147-075dc4060707"
      },
      "execution_count": null,
      "outputs": [
        {
          "output_type": "execute_result",
          "data": {
            "text/plain": [
              "<bound method NDFrame.head of     country country_name                  type    level     2016     2017  \\\n",
              "0        BE      Belgium  Conventional thermal  Level 1  30728.0  31316.0   \n",
              "1        BE      Belgium               Nuclear  Level 1  41430.0  40128.5   \n",
              "2        BE      Belgium                 Hydro  Level 1   1476.0   1360.9   \n",
              "3        BE      Belgium    Pumped hydro power  Level 2   1110.0   1093.2   \n",
              "4        BE      Belgium                  Wind  Level 1   5340.0   6387.9   \n",
              "..      ...          ...                   ...      ...      ...      ...   \n",
              "291      GE      Georgia    Pumped hydro power  Level 2      0.0      0.0   \n",
              "292      GE      Georgia                  Wind  Level 1      9.0     87.7   \n",
              "293      GE      Georgia                 Solar  Level 1      0.0      0.0   \n",
              "294      GE      Georgia            Geothermal  Level 1      0.0      0.0   \n",
              "295      GE      Georgia                 Other  Level 1      0.0      0.0   \n",
              "\n",
              "          2018  \n",
              "0    30092.635  \n",
              "1    26995.628  \n",
              "2     1239.248  \n",
              "3      983.190  \n",
              "4     7177.346  \n",
              "..         ...  \n",
              "291      0.000  \n",
              "292     84.226  \n",
              "293      0.000  \n",
              "294      0.000  \n",
              "295      0.000  \n",
              "\n",
              "[296 rows x 7 columns]>"
            ]
          },
          "metadata": {},
          "execution_count": 2
        }
      ]
    },
    {
      "cell_type": "markdown",
      "source": [
        "##### Q1. (European Energy) Qual o número de instâncias da base de dados?"
      ],
      "metadata": {
        "id": "wYurBx3kMrDU"
      }
    },
    {
      "cell_type": "markdown",
      "source": [
        "##### Q2. (European Energy) Existem valores ausentes na base? Se houverem, quais e quantos?"
      ],
      "metadata": {
        "id": "jWFl5CsxNP7F"
      }
    },
    {
      "cell_type": "code",
      "source": [
        "df.isnull().sum()\n"
      ],
      "metadata": {
        "colab": {
          "base_uri": "https://localhost:8080/"
        },
        "id": "UTYqhS0K9THW",
        "outputId": "c0247dc5-091b-4563-b71b-3c24236c3712"
      },
      "execution_count": null,
      "outputs": [
        {
          "output_type": "execute_result",
          "data": {
            "text/plain": [
              "country         0\n",
              "country_name    8\n",
              "type            0\n",
              "level           0\n",
              "2016            0\n",
              "2017            0\n",
              "2018            0\n",
              "dtype: int64"
            ]
          },
          "metadata": {},
          "execution_count": 42
        }
      ]
    },
    {
      "cell_type": "markdown",
      "source": [
        "##### Q3. (European Energy) A qual país pertencem os dados ausentes?\n",
        "\n",
        "Dica: para selecionar valores ausentes empregue \"`df.coluna.isnull()`\" como um predicado de seleção."
      ],
      "metadata": {
        "id": "5YYGSezxNc-J"
      }
    },
    {
      "cell_type": "markdown",
      "source": [
        "##### Q4. (European Energy) Quantos países e tipos de energia diferentes existem na base?\n",
        "\n",
        "Dica: Não empregue o atributo com valores ausentes, ou tenha cuidado ao empregar. Empregue `type` entre aspas, é uma palavra reservada do `Python`."
      ],
      "metadata": {
        "id": "V0TeSIZTPRC1"
      }
    },
    {
      "cell_type": "markdown",
      "metadata": {
        "id": "GypmvP3lZEWR"
      },
      "source": [
        "##### Q5. (European Energy) Qual o total de energia produzida na Europa no ano de 2018?"
      ]
    },
    {
      "cell_type": "markdown",
      "metadata": {
        "id": "sxy8i0FGRLP-"
      },
      "source": [
        "##### Q6. (European Energy) Qual percentual de energia nuclear produzida na Europa no ano de 2018?"
      ]
    },
    {
      "cell_type": "code",
      "source": [
        "total1 = df['2018'].sum()\n",
        "print(total1)"
      ],
      "metadata": {
        "colab": {
          "base_uri": "https://localhost:8080/"
        },
        "id": "Ej8DUqN-7FyZ",
        "outputId": "85baf41e-9432-4536-c698-8bb2357089c5"
      },
      "execution_count": null,
      "outputs": [
        {
          "output_type": "stream",
          "name": "stdout",
          "text": [
            "3787674.63\n"
          ]
        }
      ]
    },
    {
      "cell_type": "code",
      "source": [
        "nuclear = df[(df['type'] == 'Nuclear')]['2018'].sum()\n",
        "print(nuclear)"
      ],
      "metadata": {
        "colab": {
          "base_uri": "https://localhost:8080/"
        },
        "id": "kRnGCqlN7JrF",
        "outputId": "9ee5b0d9-77c5-41af-acb4-83945da994b9"
      },
      "execution_count": null,
      "outputs": [
        {
          "output_type": "stream",
          "name": "stdout",
          "text": [
            "868333.983\n"
          ]
        }
      ]
    },
    {
      "cell_type": "code",
      "source": [
        "percentual1 = nuclear/total1\n",
        "print(percentual1*100)"
      ],
      "metadata": {
        "colab": {
          "base_uri": "https://localhost:8080/"
        },
        "id": "p83kBGEz7t4m",
        "outputId": "c3925646-df36-4cbe-d8b6-acad9062d81e"
      },
      "execution_count": null,
      "outputs": [
        {
          "output_type": "stream",
          "name": "stdout",
          "text": [
            "22.92525276913767\n"
          ]
        }
      ]
    },
    {
      "cell_type": "markdown",
      "metadata": {
        "id": "1cIu6LriZ1N7"
      },
      "source": [
        "##### Q7. (European Energy) Qual o percentual de energia nuclear produzido na França no ano de 2018?"
      ]
    },
    {
      "cell_type": "markdown",
      "metadata": {
        "id": "rEnUCFVtaNTa"
      },
      "source": [
        "##### Q8. (European Energy) Qual o percentual de energias limpas produzida na Europa no ano de 2018?\n",
        "\n",
        "*Energias limpas somente Hidroelétrica, Eólica, Solar e Geotérmica.*"
      ]
    },
    {
      "cell_type": "code",
      "source": [
        "total = df['2018'].sum()\n",
        "print(total)"
      ],
      "metadata": {
        "colab": {
          "base_uri": "https://localhost:8080/"
        },
        "id": "XOfOvAiYz4F2",
        "outputId": "a326043c-f0ec-4f3a-b6d7-0755fc379c14"
      },
      "execution_count": null,
      "outputs": [
        {
          "output_type": "stream",
          "name": "stdout",
          "text": [
            "3787674.63\n"
          ]
        }
      ]
    },
    {
      "cell_type": "code",
      "source": [
        "limpa = df[(df['type'] == 'Hydro') | (df['type'] == 'Wind') | (df['type'] == 'Solar') | (df['type'] == 'Geothermal')]['2018'].sum()\n",
        "print(limpa)"
      ],
      "metadata": {
        "colab": {
          "base_uri": "https://localhost:8080/"
        },
        "id": "Rl3owUK232kY",
        "outputId": "2d51026a-4a32-43b4-9842-61e8644796b3"
      },
      "execution_count": null,
      "outputs": [
        {
          "output_type": "stream",
          "name": "stdout",
          "text": [
            "1156738.155\n"
          ]
        }
      ]
    },
    {
      "cell_type": "code",
      "source": [
        "percentual = limpa/total\n",
        "\n",
        "print(percentual*100)"
      ],
      "metadata": {
        "colab": {
          "base_uri": "https://localhost:8080/"
        },
        "id": "qtu4DJTd6LEF",
        "outputId": "d64c3f96-b00d-496e-c870-6da3804808a6"
      },
      "execution_count": null,
      "outputs": [
        {
          "output_type": "stream",
          "name": "stdout",
          "text": [
            "30.53953330199326\n"
          ]
        }
      ]
    },
    {
      "cell_type": "markdown",
      "metadata": {
        "id": "2c_uhLoOqmmz"
      },
      "source": [
        "##### Q9. (European Energy) Houve crescimento da energia Eólica (`Wind`) produzida ao longo dos anos? Qual o valor produzido no último ano?\n",
        "\n"
      ]
    },
    {
      "cell_type": "markdown",
      "metadata": {
        "id": "MM2FVMv_rNje"
      },
      "source": [
        "##### Q10. (European Energy) Qual o percentual de crescimento de energia Eólica(`Wind`) no último ano com relação ao ano anterior?\n",
        "\n",
        "Dica: Percentual (After - Before) / Before * 100\n",
        "\n"
      ]
    },
    {
      "cell_type": "markdown",
      "source": [
        "##### Q11. (European Energy) Qual a média de energia produzida pela Alemanha (`Germany`) no ano de 2018?"
      ],
      "metadata": {
        "id": "deBZ8DyBu5gN"
      }
    },
    {
      "cell_type": "code",
      "source": [
        "df[(df['country_name'] == 'Germany')]['2018'].mean()"
      ],
      "metadata": {
        "colab": {
          "base_uri": "https://localhost:8080/"
        },
        "id": "jVfQpxCZ8D8b",
        "outputId": "1dea13c3-fc87-4437-e638-88396ec10ecc"
      },
      "execution_count": null,
      "outputs": [
        {
          "output_type": "execute_result",
          "data": {
            "text/plain": [
              "72307.5995"
            ]
          },
          "metadata": {},
          "execution_count": 36
        }
      ]
    },
    {
      "cell_type": "markdown",
      "source": [
        "##### Q12. (European Energy) Observando os cinco maiores valores de energia produzidos em 2018, predominam que tipo de produção de energia na Europa?"
      ],
      "metadata": {
        "id": "AWLgCWsJvb-X"
      }
    },
    {
      "cell_type": "code",
      "source": [
        "df.nlargest(5, '2018')['type']"
      ],
      "metadata": {
        "colab": {
          "base_uri": "https://localhost:8080/"
        },
        "id": "eFz0KweV8wdl",
        "outputId": "20c61c76-d9e6-4d93-99bb-6b7b2eefce2f"
      },
      "execution_count": null,
      "outputs": [
        {
          "output_type": "execute_result",
          "data": {
            "text/plain": [
              "73                  Nuclear\n",
              "32     Conventional thermal\n",
              "264    Conventional thermal\n",
              "88     Conventional thermal\n",
              "216    Conventional thermal\n",
              "Name: type, dtype: object"
            ]
          },
          "metadata": {},
          "execution_count": 39
        }
      ]
    },
    {
      "cell_type": "markdown",
      "metadata": {
        "id": "X5QYJmfBllu4"
      },
      "source": [
        "\n",
        "\n",
        "## **CASE NYC Taxi**\n",
        "\n",
        "Qual os destinos mais comuns? Qual o custo médio dos translados em NYC?\n",
        "\n",
        "<br>\n",
        "<br>\n",
        "\n",
        "<img src=\"https://www.nyc.gov/assets/tlc/images/content/pages/about/taxi_zone_map_manhattan.jpg\" width=220, align=\"left\">\n",
        "\n",
        "<br>\n",
        "<br>\n",
        "<br>\n",
        "<br>\n",
        "<br>\n",
        "<br>\n",
        "<br>\n",
        "<br>\n",
        "<br>\n",
        "<br>\n",
        "<br>\n",
        "<br>\n",
        "<br>\n",
        "\n",
        "[TLC Trip](https://www.nyc.gov/site/tlc/about/tlc-trip-record-data.page). Explore aqui como é o tráfeco de Taxi na cidade de NYC, aqui os [dados](https://github.com/mwaskom/seaborn-data/raw/master/taxis.csv)."
      ]
    },
    {
      "cell_type": "code",
      "source": [
        "data = pd.read_csv('https://raw.githubusercontent.com/mwaskom/seaborn-data/master/taxis.csv')\n",
        "data.head()"
      ],
      "metadata": {
        "colab": {
          "base_uri": "https://localhost:8080/",
          "height": 250
        },
        "id": "Yg6t_1Dj-nLq",
        "outputId": "355d33bf-759a-436e-c887-2baa59ec0992"
      },
      "execution_count": null,
      "outputs": [
        {
          "output_type": "execute_result",
          "data": {
            "text/plain": [
              "                pickup              dropoff  passengers  distance  fare   tip  \\\n",
              "0  2019-03-23 20:21:09  2019-03-23 20:27:24           1      1.60   7.0  2.15   \n",
              "1  2019-03-04 16:11:55  2019-03-04 16:19:00           1      0.79   5.0  0.00   \n",
              "2  2019-03-27 17:53:01  2019-03-27 18:00:25           1      1.37   7.5  2.36   \n",
              "3  2019-03-10 01:23:59  2019-03-10 01:49:51           1      7.70  27.0  6.15   \n",
              "4  2019-03-30 13:27:42  2019-03-30 13:37:14           3      2.16   9.0  1.10   \n",
              "\n",
              "   tolls  total   color      payment            pickup_zone  \\\n",
              "0    0.0  12.95  yellow  credit card        Lenox Hill West   \n",
              "1    0.0   9.30  yellow         cash  Upper West Side South   \n",
              "2    0.0  14.16  yellow  credit card          Alphabet City   \n",
              "3    0.0  36.95  yellow  credit card              Hudson Sq   \n",
              "4    0.0  13.40  yellow  credit card           Midtown East   \n",
              "\n",
              "            dropoff_zone pickup_borough dropoff_borough  \n",
              "0    UN/Turtle Bay South      Manhattan       Manhattan  \n",
              "1  Upper West Side South      Manhattan       Manhattan  \n",
              "2           West Village      Manhattan       Manhattan  \n",
              "3         Yorkville West      Manhattan       Manhattan  \n",
              "4         Yorkville West      Manhattan       Manhattan  "
            ],
            "text/html": [
              "\n",
              "  <div id=\"df-847622ea-c626-44bd-9d58-e2235a264585\">\n",
              "    <div class=\"colab-df-container\">\n",
              "      <div>\n",
              "<style scoped>\n",
              "    .dataframe tbody tr th:only-of-type {\n",
              "        vertical-align: middle;\n",
              "    }\n",
              "\n",
              "    .dataframe tbody tr th {\n",
              "        vertical-align: top;\n",
              "    }\n",
              "\n",
              "    .dataframe thead th {\n",
              "        text-align: right;\n",
              "    }\n",
              "</style>\n",
              "<table border=\"1\" class=\"dataframe\">\n",
              "  <thead>\n",
              "    <tr style=\"text-align: right;\">\n",
              "      <th></th>\n",
              "      <th>pickup</th>\n",
              "      <th>dropoff</th>\n",
              "      <th>passengers</th>\n",
              "      <th>distance</th>\n",
              "      <th>fare</th>\n",
              "      <th>tip</th>\n",
              "      <th>tolls</th>\n",
              "      <th>total</th>\n",
              "      <th>color</th>\n",
              "      <th>payment</th>\n",
              "      <th>pickup_zone</th>\n",
              "      <th>dropoff_zone</th>\n",
              "      <th>pickup_borough</th>\n",
              "      <th>dropoff_borough</th>\n",
              "    </tr>\n",
              "  </thead>\n",
              "  <tbody>\n",
              "    <tr>\n",
              "      <th>0</th>\n",
              "      <td>2019-03-23 20:21:09</td>\n",
              "      <td>2019-03-23 20:27:24</td>\n",
              "      <td>1</td>\n",
              "      <td>1.60</td>\n",
              "      <td>7.0</td>\n",
              "      <td>2.15</td>\n",
              "      <td>0.0</td>\n",
              "      <td>12.95</td>\n",
              "      <td>yellow</td>\n",
              "      <td>credit card</td>\n",
              "      <td>Lenox Hill West</td>\n",
              "      <td>UN/Turtle Bay South</td>\n",
              "      <td>Manhattan</td>\n",
              "      <td>Manhattan</td>\n",
              "    </tr>\n",
              "    <tr>\n",
              "      <th>1</th>\n",
              "      <td>2019-03-04 16:11:55</td>\n",
              "      <td>2019-03-04 16:19:00</td>\n",
              "      <td>1</td>\n",
              "      <td>0.79</td>\n",
              "      <td>5.0</td>\n",
              "      <td>0.00</td>\n",
              "      <td>0.0</td>\n",
              "      <td>9.30</td>\n",
              "      <td>yellow</td>\n",
              "      <td>cash</td>\n",
              "      <td>Upper West Side South</td>\n",
              "      <td>Upper West Side South</td>\n",
              "      <td>Manhattan</td>\n",
              "      <td>Manhattan</td>\n",
              "    </tr>\n",
              "    <tr>\n",
              "      <th>2</th>\n",
              "      <td>2019-03-27 17:53:01</td>\n",
              "      <td>2019-03-27 18:00:25</td>\n",
              "      <td>1</td>\n",
              "      <td>1.37</td>\n",
              "      <td>7.5</td>\n",
              "      <td>2.36</td>\n",
              "      <td>0.0</td>\n",
              "      <td>14.16</td>\n",
              "      <td>yellow</td>\n",
              "      <td>credit card</td>\n",
              "      <td>Alphabet City</td>\n",
              "      <td>West Village</td>\n",
              "      <td>Manhattan</td>\n",
              "      <td>Manhattan</td>\n",
              "    </tr>\n",
              "    <tr>\n",
              "      <th>3</th>\n",
              "      <td>2019-03-10 01:23:59</td>\n",
              "      <td>2019-03-10 01:49:51</td>\n",
              "      <td>1</td>\n",
              "      <td>7.70</td>\n",
              "      <td>27.0</td>\n",
              "      <td>6.15</td>\n",
              "      <td>0.0</td>\n",
              "      <td>36.95</td>\n",
              "      <td>yellow</td>\n",
              "      <td>credit card</td>\n",
              "      <td>Hudson Sq</td>\n",
              "      <td>Yorkville West</td>\n",
              "      <td>Manhattan</td>\n",
              "      <td>Manhattan</td>\n",
              "    </tr>\n",
              "    <tr>\n",
              "      <th>4</th>\n",
              "      <td>2019-03-30 13:27:42</td>\n",
              "      <td>2019-03-30 13:37:14</td>\n",
              "      <td>3</td>\n",
              "      <td>2.16</td>\n",
              "      <td>9.0</td>\n",
              "      <td>1.10</td>\n",
              "      <td>0.0</td>\n",
              "      <td>13.40</td>\n",
              "      <td>yellow</td>\n",
              "      <td>credit card</td>\n",
              "      <td>Midtown East</td>\n",
              "      <td>Yorkville West</td>\n",
              "      <td>Manhattan</td>\n",
              "      <td>Manhattan</td>\n",
              "    </tr>\n",
              "  </tbody>\n",
              "</table>\n",
              "</div>\n",
              "      <button class=\"colab-df-convert\" onclick=\"convertToInteractive('df-847622ea-c626-44bd-9d58-e2235a264585')\"\n",
              "              title=\"Convert this dataframe to an interactive table.\"\n",
              "              style=\"display:none;\">\n",
              "        \n",
              "  <svg xmlns=\"http://www.w3.org/2000/svg\" height=\"24px\"viewBox=\"0 0 24 24\"\n",
              "       width=\"24px\">\n",
              "    <path d=\"M0 0h24v24H0V0z\" fill=\"none\"/>\n",
              "    <path d=\"M18.56 5.44l.94 2.06.94-2.06 2.06-.94-2.06-.94-.94-2.06-.94 2.06-2.06.94zm-11 1L8.5 8.5l.94-2.06 2.06-.94-2.06-.94L8.5 2.5l-.94 2.06-2.06.94zm10 10l.94 2.06.94-2.06 2.06-.94-2.06-.94-.94-2.06-.94 2.06-2.06.94z\"/><path d=\"M17.41 7.96l-1.37-1.37c-.4-.4-.92-.59-1.43-.59-.52 0-1.04.2-1.43.59L10.3 9.45l-7.72 7.72c-.78.78-.78 2.05 0 2.83L4 21.41c.39.39.9.59 1.41.59.51 0 1.02-.2 1.41-.59l7.78-7.78 2.81-2.81c.8-.78.8-2.07 0-2.86zM5.41 20L4 18.59l7.72-7.72 1.47 1.35L5.41 20z\"/>\n",
              "  </svg>\n",
              "      </button>\n",
              "      \n",
              "  <style>\n",
              "    .colab-df-container {\n",
              "      display:flex;\n",
              "      flex-wrap:wrap;\n",
              "      gap: 12px;\n",
              "    }\n",
              "\n",
              "    .colab-df-convert {\n",
              "      background-color: #E8F0FE;\n",
              "      border: none;\n",
              "      border-radius: 50%;\n",
              "      cursor: pointer;\n",
              "      display: none;\n",
              "      fill: #1967D2;\n",
              "      height: 32px;\n",
              "      padding: 0 0 0 0;\n",
              "      width: 32px;\n",
              "    }\n",
              "\n",
              "    .colab-df-convert:hover {\n",
              "      background-color: #E2EBFA;\n",
              "      box-shadow: 0px 1px 2px rgba(60, 64, 67, 0.3), 0px 1px 3px 1px rgba(60, 64, 67, 0.15);\n",
              "      fill: #174EA6;\n",
              "    }\n",
              "\n",
              "    [theme=dark] .colab-df-convert {\n",
              "      background-color: #3B4455;\n",
              "      fill: #D2E3FC;\n",
              "    }\n",
              "\n",
              "    [theme=dark] .colab-df-convert:hover {\n",
              "      background-color: #434B5C;\n",
              "      box-shadow: 0px 1px 3px 1px rgba(0, 0, 0, 0.15);\n",
              "      filter: drop-shadow(0px 1px 2px rgba(0, 0, 0, 0.3));\n",
              "      fill: #FFFFFF;\n",
              "    }\n",
              "  </style>\n",
              "\n",
              "      <script>\n",
              "        const buttonEl =\n",
              "          document.querySelector('#df-847622ea-c626-44bd-9d58-e2235a264585 button.colab-df-convert');\n",
              "        buttonEl.style.display =\n",
              "          google.colab.kernel.accessAllowed ? 'block' : 'none';\n",
              "\n",
              "        async function convertToInteractive(key) {\n",
              "          const element = document.querySelector('#df-847622ea-c626-44bd-9d58-e2235a264585');\n",
              "          const dataTable =\n",
              "            await google.colab.kernel.invokeFunction('convertToInteractive',\n",
              "                                                     [key], {});\n",
              "          if (!dataTable) return;\n",
              "\n",
              "          const docLinkHtml = 'Like what you see? Visit the ' +\n",
              "            '<a target=\"_blank\" href=https://colab.research.google.com/notebooks/data_table.ipynb>data table notebook</a>'\n",
              "            + ' to learn more about interactive tables.';\n",
              "          element.innerHTML = '';\n",
              "          dataTable['output_type'] = 'display_data';\n",
              "          await google.colab.output.renderOutput(dataTable, element);\n",
              "          const docLink = document.createElement('div');\n",
              "          docLink.innerHTML = docLinkHtml;\n",
              "          element.appendChild(docLink);\n",
              "        }\n",
              "      </script>\n",
              "    </div>\n",
              "  </div>\n",
              "  "
            ]
          },
          "metadata": {},
          "execution_count": 45
        }
      ]
    },
    {
      "cell_type": "code",
      "source": [
        "data = data.dropna()"
      ],
      "metadata": {
        "id": "gIPw_tt2_Bth"
      },
      "execution_count": null,
      "outputs": []
    },
    {
      "cell_type": "code",
      "source": [
        "data.head()"
      ],
      "metadata": {
        "colab": {
          "base_uri": "https://localhost:8080/",
          "height": 250
        },
        "id": "87rDm0kv_HwK",
        "outputId": "63420b8a-4b82-47a4-c9e5-22898e0936f1"
      },
      "execution_count": null,
      "outputs": [
        {
          "output_type": "execute_result",
          "data": {
            "text/plain": [
              "                pickup              dropoff  passengers  distance  fare   tip  \\\n",
              "0  2019-03-23 20:21:09  2019-03-23 20:27:24           1      1.60   7.0  2.15   \n",
              "1  2019-03-04 16:11:55  2019-03-04 16:19:00           1      0.79   5.0  0.00   \n",
              "2  2019-03-27 17:53:01  2019-03-27 18:00:25           1      1.37   7.5  2.36   \n",
              "3  2019-03-10 01:23:59  2019-03-10 01:49:51           1      7.70  27.0  6.15   \n",
              "4  2019-03-30 13:27:42  2019-03-30 13:37:14           3      2.16   9.0  1.10   \n",
              "\n",
              "   tolls  total   color      payment            pickup_zone  \\\n",
              "0    0.0  12.95  yellow  credit card        Lenox Hill West   \n",
              "1    0.0   9.30  yellow         cash  Upper West Side South   \n",
              "2    0.0  14.16  yellow  credit card          Alphabet City   \n",
              "3    0.0  36.95  yellow  credit card              Hudson Sq   \n",
              "4    0.0  13.40  yellow  credit card           Midtown East   \n",
              "\n",
              "            dropoff_zone pickup_borough dropoff_borough  \n",
              "0    UN/Turtle Bay South      Manhattan       Manhattan  \n",
              "1  Upper West Side South      Manhattan       Manhattan  \n",
              "2           West Village      Manhattan       Manhattan  \n",
              "3         Yorkville West      Manhattan       Manhattan  \n",
              "4         Yorkville West      Manhattan       Manhattan  "
            ],
            "text/html": [
              "\n",
              "  <div id=\"df-e1b74e24-b716-47a8-b6ef-d9f287ae3a08\">\n",
              "    <div class=\"colab-df-container\">\n",
              "      <div>\n",
              "<style scoped>\n",
              "    .dataframe tbody tr th:only-of-type {\n",
              "        vertical-align: middle;\n",
              "    }\n",
              "\n",
              "    .dataframe tbody tr th {\n",
              "        vertical-align: top;\n",
              "    }\n",
              "\n",
              "    .dataframe thead th {\n",
              "        text-align: right;\n",
              "    }\n",
              "</style>\n",
              "<table border=\"1\" class=\"dataframe\">\n",
              "  <thead>\n",
              "    <tr style=\"text-align: right;\">\n",
              "      <th></th>\n",
              "      <th>pickup</th>\n",
              "      <th>dropoff</th>\n",
              "      <th>passengers</th>\n",
              "      <th>distance</th>\n",
              "      <th>fare</th>\n",
              "      <th>tip</th>\n",
              "      <th>tolls</th>\n",
              "      <th>total</th>\n",
              "      <th>color</th>\n",
              "      <th>payment</th>\n",
              "      <th>pickup_zone</th>\n",
              "      <th>dropoff_zone</th>\n",
              "      <th>pickup_borough</th>\n",
              "      <th>dropoff_borough</th>\n",
              "    </tr>\n",
              "  </thead>\n",
              "  <tbody>\n",
              "    <tr>\n",
              "      <th>0</th>\n",
              "      <td>2019-03-23 20:21:09</td>\n",
              "      <td>2019-03-23 20:27:24</td>\n",
              "      <td>1</td>\n",
              "      <td>1.60</td>\n",
              "      <td>7.0</td>\n",
              "      <td>2.15</td>\n",
              "      <td>0.0</td>\n",
              "      <td>12.95</td>\n",
              "      <td>yellow</td>\n",
              "      <td>credit card</td>\n",
              "      <td>Lenox Hill West</td>\n",
              "      <td>UN/Turtle Bay South</td>\n",
              "      <td>Manhattan</td>\n",
              "      <td>Manhattan</td>\n",
              "    </tr>\n",
              "    <tr>\n",
              "      <th>1</th>\n",
              "      <td>2019-03-04 16:11:55</td>\n",
              "      <td>2019-03-04 16:19:00</td>\n",
              "      <td>1</td>\n",
              "      <td>0.79</td>\n",
              "      <td>5.0</td>\n",
              "      <td>0.00</td>\n",
              "      <td>0.0</td>\n",
              "      <td>9.30</td>\n",
              "      <td>yellow</td>\n",
              "      <td>cash</td>\n",
              "      <td>Upper West Side South</td>\n",
              "      <td>Upper West Side South</td>\n",
              "      <td>Manhattan</td>\n",
              "      <td>Manhattan</td>\n",
              "    </tr>\n",
              "    <tr>\n",
              "      <th>2</th>\n",
              "      <td>2019-03-27 17:53:01</td>\n",
              "      <td>2019-03-27 18:00:25</td>\n",
              "      <td>1</td>\n",
              "      <td>1.37</td>\n",
              "      <td>7.5</td>\n",
              "      <td>2.36</td>\n",
              "      <td>0.0</td>\n",
              "      <td>14.16</td>\n",
              "      <td>yellow</td>\n",
              "      <td>credit card</td>\n",
              "      <td>Alphabet City</td>\n",
              "      <td>West Village</td>\n",
              "      <td>Manhattan</td>\n",
              "      <td>Manhattan</td>\n",
              "    </tr>\n",
              "    <tr>\n",
              "      <th>3</th>\n",
              "      <td>2019-03-10 01:23:59</td>\n",
              "      <td>2019-03-10 01:49:51</td>\n",
              "      <td>1</td>\n",
              "      <td>7.70</td>\n",
              "      <td>27.0</td>\n",
              "      <td>6.15</td>\n",
              "      <td>0.0</td>\n",
              "      <td>36.95</td>\n",
              "      <td>yellow</td>\n",
              "      <td>credit card</td>\n",
              "      <td>Hudson Sq</td>\n",
              "      <td>Yorkville West</td>\n",
              "      <td>Manhattan</td>\n",
              "      <td>Manhattan</td>\n",
              "    </tr>\n",
              "    <tr>\n",
              "      <th>4</th>\n",
              "      <td>2019-03-30 13:27:42</td>\n",
              "      <td>2019-03-30 13:37:14</td>\n",
              "      <td>3</td>\n",
              "      <td>2.16</td>\n",
              "      <td>9.0</td>\n",
              "      <td>1.10</td>\n",
              "      <td>0.0</td>\n",
              "      <td>13.40</td>\n",
              "      <td>yellow</td>\n",
              "      <td>credit card</td>\n",
              "      <td>Midtown East</td>\n",
              "      <td>Yorkville West</td>\n",
              "      <td>Manhattan</td>\n",
              "      <td>Manhattan</td>\n",
              "    </tr>\n",
              "  </tbody>\n",
              "</table>\n",
              "</div>\n",
              "      <button class=\"colab-df-convert\" onclick=\"convertToInteractive('df-e1b74e24-b716-47a8-b6ef-d9f287ae3a08')\"\n",
              "              title=\"Convert this dataframe to an interactive table.\"\n",
              "              style=\"display:none;\">\n",
              "        \n",
              "  <svg xmlns=\"http://www.w3.org/2000/svg\" height=\"24px\"viewBox=\"0 0 24 24\"\n",
              "       width=\"24px\">\n",
              "    <path d=\"M0 0h24v24H0V0z\" fill=\"none\"/>\n",
              "    <path d=\"M18.56 5.44l.94 2.06.94-2.06 2.06-.94-2.06-.94-.94-2.06-.94 2.06-2.06.94zm-11 1L8.5 8.5l.94-2.06 2.06-.94-2.06-.94L8.5 2.5l-.94 2.06-2.06.94zm10 10l.94 2.06.94-2.06 2.06-.94-2.06-.94-.94-2.06-.94 2.06-2.06.94z\"/><path d=\"M17.41 7.96l-1.37-1.37c-.4-.4-.92-.59-1.43-.59-.52 0-1.04.2-1.43.59L10.3 9.45l-7.72 7.72c-.78.78-.78 2.05 0 2.83L4 21.41c.39.39.9.59 1.41.59.51 0 1.02-.2 1.41-.59l7.78-7.78 2.81-2.81c.8-.78.8-2.07 0-2.86zM5.41 20L4 18.59l7.72-7.72 1.47 1.35L5.41 20z\"/>\n",
              "  </svg>\n",
              "      </button>\n",
              "      \n",
              "  <style>\n",
              "    .colab-df-container {\n",
              "      display:flex;\n",
              "      flex-wrap:wrap;\n",
              "      gap: 12px;\n",
              "    }\n",
              "\n",
              "    .colab-df-convert {\n",
              "      background-color: #E8F0FE;\n",
              "      border: none;\n",
              "      border-radius: 50%;\n",
              "      cursor: pointer;\n",
              "      display: none;\n",
              "      fill: #1967D2;\n",
              "      height: 32px;\n",
              "      padding: 0 0 0 0;\n",
              "      width: 32px;\n",
              "    }\n",
              "\n",
              "    .colab-df-convert:hover {\n",
              "      background-color: #E2EBFA;\n",
              "      box-shadow: 0px 1px 2px rgba(60, 64, 67, 0.3), 0px 1px 3px 1px rgba(60, 64, 67, 0.15);\n",
              "      fill: #174EA6;\n",
              "    }\n",
              "\n",
              "    [theme=dark] .colab-df-convert {\n",
              "      background-color: #3B4455;\n",
              "      fill: #D2E3FC;\n",
              "    }\n",
              "\n",
              "    [theme=dark] .colab-df-convert:hover {\n",
              "      background-color: #434B5C;\n",
              "      box-shadow: 0px 1px 3px 1px rgba(0, 0, 0, 0.15);\n",
              "      filter: drop-shadow(0px 1px 2px rgba(0, 0, 0, 0.3));\n",
              "      fill: #FFFFFF;\n",
              "    }\n",
              "  </style>\n",
              "\n",
              "      <script>\n",
              "        const buttonEl =\n",
              "          document.querySelector('#df-e1b74e24-b716-47a8-b6ef-d9f287ae3a08 button.colab-df-convert');\n",
              "        buttonEl.style.display =\n",
              "          google.colab.kernel.accessAllowed ? 'block' : 'none';\n",
              "\n",
              "        async function convertToInteractive(key) {\n",
              "          const element = document.querySelector('#df-e1b74e24-b716-47a8-b6ef-d9f287ae3a08');\n",
              "          const dataTable =\n",
              "            await google.colab.kernel.invokeFunction('convertToInteractive',\n",
              "                                                     [key], {});\n",
              "          if (!dataTable) return;\n",
              "\n",
              "          const docLinkHtml = 'Like what you see? Visit the ' +\n",
              "            '<a target=\"_blank\" href=https://colab.research.google.com/notebooks/data_table.ipynb>data table notebook</a>'\n",
              "            + ' to learn more about interactive tables.';\n",
              "          element.innerHTML = '';\n",
              "          dataTable['output_type'] = 'display_data';\n",
              "          await google.colab.output.renderOutput(dataTable, element);\n",
              "          const docLink = document.createElement('div');\n",
              "          docLink.innerHTML = docLinkHtml;\n",
              "          element.appendChild(docLink);\n",
              "        }\n",
              "      </script>\n",
              "    </div>\n",
              "  </div>\n",
              "  "
            ]
          },
          "metadata": {},
          "execution_count": 55
        }
      ]
    },
    {
      "cell_type": "markdown",
      "source": [
        "##### Q1. (NYC Taxi) Se existirem, exclua as linhas com valores nulos da base. Quantas linhas há antes e depois da exclusão dos valores nulos?"
      ],
      "metadata": {
        "id": "okedtfkitgp1"
      }
    },
    {
      "cell_type": "markdown",
      "source": [
        "##### Q2. (NYC Taxi) Quantos casos (instâncias ou linhas) existem das diferentes formas de pagamento?"
      ],
      "metadata": {
        "id": "Kjsuwg8at-MY"
      }
    },
    {
      "cell_type": "markdown",
      "source": [
        "##### Q3. (NYC Taxi) Qual a quantidade de diferentes zonas de destino (`dropoff_zone`)?"
      ],
      "metadata": {
        "id": "9-c0dpB-wOr7"
      }
    },
    {
      "cell_type": "code",
      "source": [
        "data.dropoff_zone.value_counts()"
      ],
      "metadata": {
        "colab": {
          "base_uri": "https://localhost:8080/"
        },
        "id": "Wk-ROKEI_gFY",
        "outputId": "1a9a65d9-6d5b-4975-b74d-aa4527a898b2"
      },
      "execution_count": null,
      "outputs": [
        {
          "output_type": "execute_result",
          "data": {
            "text/plain": [
              "Upper East Side North    244\n",
              "Murray Hill              217\n",
              "Midtown Center           215\n",
              "Midtown East             175\n",
              "Upper East Side South    173\n",
              "                        ... \n",
              "Douglaston                 1\n",
              "Stapleton                  1\n",
              "Brighton Beach             1\n",
              "Bensonhurst East           1\n",
              "Inwood Hill Park           1\n",
              "Name: dropoff_zone, Length: 203, dtype: int64"
            ]
          },
          "metadata": {},
          "execution_count": 56
        }
      ]
    },
    {
      "cell_type": "code",
      "source": [
        "data.dropoff_zone.nunique()"
      ],
      "metadata": {
        "colab": {
          "base_uri": "https://localhost:8080/"
        },
        "id": "hB1Alf6gAFaL",
        "outputId": "4dd6ad82-f6b2-4a74-ce40-a315d6cf56fb"
      },
      "execution_count": null,
      "outputs": [
        {
          "output_type": "execute_result",
          "data": {
            "text/plain": [
              "203"
            ]
          },
          "metadata": {},
          "execution_count": 49
        }
      ]
    },
    {
      "cell_type": "markdown",
      "source": [
        "##### Q4. (NYC Taxi) Qual a zona de destino (`dropoff_zone`) com mais viagens?"
      ],
      "metadata": {
        "id": "UrXl45tQwpPl"
      }
    },
    {
      "cell_type": "code",
      "source": [
        "data.dropoff_zone.value_counts()"
      ],
      "metadata": {
        "colab": {
          "base_uri": "https://localhost:8080/"
        },
        "id": "bO3uaW-DB6hQ",
        "outputId": "67a26b03-9092-4154-b24a-02a110ac0d4b"
      },
      "execution_count": null,
      "outputs": [
        {
          "output_type": "execute_result",
          "data": {
            "text/plain": [
              "Upper East Side North    244\n",
              "Murray Hill              217\n",
              "Midtown Center           215\n",
              "Midtown East             175\n",
              "Upper East Side South    173\n",
              "                        ... \n",
              "Douglaston                 1\n",
              "Stapleton                  1\n",
              "Brighton Beach             1\n",
              "Bensonhurst East           1\n",
              "Inwood Hill Park           1\n",
              "Name: dropoff_zone, Length: 203, dtype: int64"
            ]
          },
          "metadata": {},
          "execution_count": 53
        }
      ]
    },
    {
      "cell_type": "markdown",
      "source": [
        "##### Q5. (NYC Taxi) Qual a vizinhança de destino (`dropoff_borough`) mais frequente das 5 viagens mais caras (`fare`)?"
      ],
      "metadata": {
        "id": "ZNkzS7auxQqB"
      }
    },
    {
      "cell_type": "markdown",
      "source": [
        "##### Q6. (NYC Taxi) Qual o preço médio das viagens (`fare`)?"
      ],
      "metadata": {
        "id": "nYbk4BPPySKW"
      }
    },
    {
      "cell_type": "markdown",
      "source": [
        "##### Q7. (NYC Taxi) Qual o preço médio das viagens (`fare`) com zona de destino (`dropoff_zone`) o `JFK Airport`?"
      ],
      "metadata": {
        "id": "DgPIMU9vydzm"
      }
    },
    {
      "cell_type": "markdown",
      "source": [
        "##### Q8. (NYC Taxi) Qual percentual da quantidade de viagens tem como destino a zona (`dropoff_zone`) do `JFK Airport`?"
      ],
      "metadata": {
        "id": "-PIzKw_Zy1KY"
      }
    },
    {
      "cell_type": "markdown",
      "source": [
        "##### Q9. (NYC Taxi) Qual a vizinhança de destino (`dropoff_borough`) mais frequente das 5 corridas de maior distância?"
      ],
      "metadata": {
        "id": "IGsRjqFhzSbJ"
      }
    },
    {
      "cell_type": "code",
      "source": [
        "data.nlargest(5, 'distance')['dropoff_borough']"
      ],
      "metadata": {
        "colab": {
          "base_uri": "https://localhost:8080/"
        },
        "id": "Auq_c2VkAS-S",
        "outputId": "bede1e07-dc20-4f06-bb64-98a0341854a5"
      },
      "execution_count": null,
      "outputs": [
        {
          "output_type": "execute_result",
          "data": {
            "text/plain": [
              "5364       Queens\n",
              "2397    Manhattan\n",
              "1535       Queens\n",
              "3875       Queens\n",
              "4218     Brooklyn\n",
              "Name: dropoff_borough, dtype: object"
            ]
          },
          "metadata": {},
          "execution_count": 50
        }
      ]
    },
    {
      "cell_type": "markdown",
      "source": [
        "##### Q10. (NYC Taxi) Qual a média e máximo número de passageiros nas viagens com destino à zona (`dropoff_zone`) do `JFK Airport`?"
      ],
      "metadata": {
        "id": "dHHs0Fxb0NWX"
      }
    },
    {
      "cell_type": "code",
      "source": [
        "data[(data['dropoff_zone']== 'JFK Airport')].passengers.mean()"
      ],
      "metadata": {
        "colab": {
          "base_uri": "https://localhost:8080/"
        },
        "id": "EtgyXD8qAuHs",
        "outputId": "f3e5b3a2-b5fe-4891-83ec-096f96e5eeaa"
      },
      "execution_count": null,
      "outputs": [
        {
          "output_type": "execute_result",
          "data": {
            "text/plain": [
              "1.7777777777777777"
            ]
          },
          "metadata": {},
          "execution_count": 51
        }
      ]
    },
    {
      "cell_type": "code",
      "source": [
        "data[(data['dropoff_zone']== 'JFK Airport')].passengers.max()"
      ],
      "metadata": {
        "colab": {
          "base_uri": "https://localhost:8080/"
        },
        "id": "b6ki87C2BOYO",
        "outputId": "fbb88df0-aefd-43b9-f885-386cc0b435bd"
      },
      "execution_count": null,
      "outputs": [
        {
          "output_type": "execute_result",
          "data": {
            "text/plain": [
              "6"
            ]
          },
          "metadata": {},
          "execution_count": 52
        }
      ]
    },
    {
      "cell_type": "markdown",
      "source": [
        "##### Q11. (NYC Taxi) Qual a chance de uma viagem de taxi em NYC percorrer menos de 4 milhas?"
      ],
      "metadata": {
        "id": "t-GHDHLMz6F7"
      }
    },
    {
      "cell_type": "markdown",
      "source": [
        "##### Q12. (NYC Taxi) Qual a chance de uma viagem de taxi em NYC custar mais que 20 dólares?"
      ],
      "metadata": {
        "id": "9jUawaTH1dZW"
      }
    },
    {
      "cell_type": "code",
      "source": [
        "maior = len(data[data['total']>20])\n",
        "\n",
        "total = len(data)\n",
        "\n",
        "print(maior)\n",
        "\n",
        "print(total)\n",
        "\n",
        "print((maior/total) * 100)"
      ],
      "metadata": {
        "colab": {
          "base_uri": "https://localhost:8080/"
        },
        "id": "DGk9wL6cCpKj",
        "outputId": "509a04df-aa61-4eb3-cc44-a7985dfa6b6e"
      },
      "execution_count": null,
      "outputs": [
        {
          "output_type": "stream",
          "name": "stdout",
          "text": [
            "1638\n",
            "6341\n",
            "25.83188771487147\n"
          ]
        }
      ]
    }
  ]
}